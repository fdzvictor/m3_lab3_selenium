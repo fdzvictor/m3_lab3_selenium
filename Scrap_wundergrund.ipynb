{
 "cells": [
  {
   "cell_type": "code",
   "execution_count": null,
   "metadata": {},
   "outputs": [],
   "source": [
    "# Importamos las librerías que necesitamos\n",
    "\n",
    "# Librerías de extracción de datos\n",
    "# -----------------------------------------------------------------------\n",
    "\n",
    "!pip install selenium==4.21.0\n",
    "!pip install webdriver-manager==4.0.2\n",
    "\n",
    "# Importaciones:\n",
    "# Beautifulsoup\n",
    "from bs4 import BeautifulSoup\n",
    "\n",
    "# Requests\n",
    "import requests\n",
    "\n",
    "import pandas as pd\n",
    "import numpy as np\n",
    "\n",
    "from time import sleep\n",
    "\n",
    "# Importar librerías para automatización de navegadores web con Selenium\n",
    "# -----------------------------------------------------------------------\n",
    "from selenium import webdriver  # Selenium es una herramienta para automatizar la interacción con navegadores web.\n",
    "from webdriver_manager.chrome import ChromeDriverManager  # ChromeDriverManager gestiona la instalación del controlador de Chrome.\n",
    "from selenium.webdriver.common.keys import Keys  # Keys es útil para simular eventos de teclado en Selenium.\n",
    "from selenium.webdriver.support.ui import Select  # Select se utiliza para interactuar con elementos <select> en páginas web.\n",
    "from selenium.webdriver.support.ui import WebDriverWait\n",
    "from selenium.webdriver.support import expected_conditions as EC\n",
    "from selenium.common.exceptions import NoSuchElementException # Excepciones comunes de selenium que nos podemos encontrar \n"
   ]
  },
  {
   "cell_type": "code",
   "execution_count": null,
   "metadata": {},
   "outputs": [],
   "source": [
    "#Abrimos ventana\n",
    "driver = webdriver.Chrome()\n",
    "#url de trabajo\n",
    "url_wunder = \"https://www.wunderground.com/history\"\n",
    "#Abrimos en el navegador\n",
    "driver.get(url_wunder)\n",
    "# driver.maximize_window()\n",
    "print(\"Hemos llegado a la web\")\n",
    "sleep(5)\n",
    "print(\"Hemos esperao\")\n",
    "#Aceptamos las cookies\n",
    "\n",
    "#10 segundos haciendo click a las cookies\n",
    "iframe = WebDriverWait(driver, 10).until(EC.presence_of_element_located((\"xpath\",'//*[@id=\"sp_message_iframe_1165301\"]')))\n",
    "print(\"El cuadro de ccokies ha aparecido\")\n",
    "driver.switch_to.frame(iframe)\n",
    "print(\"Hemos cambiado de frame\")\n",
    "sleep(2)\n",
    "driver.find_element(\"css selector\",'#notice > div.message-component.message-row.cta-buttons-container > div.message-component.message-column.cta-button-column.reject-column > button').click()\n",
    "print(\"Rechazo cookies\")\n",
    "driver.switch_to.default_content()\n",
    "sleep(1)\n",
    "print(\"cambio\")\n",
    "sleep(2)\n",
    "driver.find_element(\"css selector\", \"#historySearch\").send_keys(\"Madrid,Madrid,Spain\", Keys.TAB)\n",
    "sleep(4)\n",
    "print(\"he escrito\")\n",
    "try:\n",
    "      driver.find_element(\"xpath\", '//*[@id=\"dateSubmit\"]').click()\n",
    "      sleep(1)\n",
    "      driver.find_element(\"xpath\", '//*[@id=\"dateSubmit\"]').click()\n",
    "except:\n",
    "     print(\"no encuentro el boton\")\n"
   ]
  },
  {
   "cell_type": "code",
   "execution_count": null,
   "metadata": {},
   "outputs": [],
   "source": [
    "#Diccionario de coordenadas\n",
    "df = pd.read_csv(\"latitudes.csv\", index_col = 0)\n",
    "df = df.round(2)\n",
    "df.index = [\"Latitude\",\"Longitude\"]\n",
    "dic = df.to_dict(orient = \"dict\")\n",
    "dic.values()"
   ]
  },
  {
   "cell_type": "code",
   "execution_count": null,
   "metadata": {},
   "outputs": [],
   "source": [
    "#wuForm > search-autocomplete > ul > li.result-type-pws.ui-autocomplete-group.ng-star-inserted\n",
    "##wuForm > search-autocomplete > ul > li:nth-child(6) > a > span.needsclick.needsfocus.city-name.ng-star-inserted > span"
   ]
  },
  {
   "cell_type": "code",
   "execution_count": null,
   "metadata": {},
   "outputs": [],
   "source": [
    "# #Sacar el código de la URL\n",
    "# var1 = driver.find_element(\"css selector\", '#wuForm > search-autocomplete > ul > li:nth-child(6) > a').text\n",
    "#wuForm > search-autocomplete > ul > li:nth-child(6) > a"
   ]
  },
  {
   "cell_type": "code",
   "execution_count": null,
   "metadata": {},
   "outputs": [],
   "source": [
    "print(dic)\n",
    "print(list(dic.values())[1][\"Latitude\"])\n",
    "print(list(dic.values())[1][\"Longitude\"])"
   ]
  },
  {
   "cell_type": "code",
   "execution_count": 66,
   "metadata": {},
   "outputs": [
    {
     "name": "stdout",
     "output_type": "stream",
     "text": [
      "Hemos llegado a la web\n",
      "Hemos esperao\n",
      "El cuadro de ccokies ha aparecido\n",
      "Hemos cambiado de frame\n",
      "Rechazo cookies\n",
      "cambio\n",
      "click2\n",
      "coordenadas\n",
      "Aparece pop-up\n",
      "Estamos en la estación meteorológica\n",
      "Hemos pillado la url\n"
     ]
    },
    {
     "ename": "NameError",
     "evalue": "name 'By' is not defined",
     "output_type": "error",
     "traceback": [
      "\u001b[1;31m---------------------------------------------------------------------------\u001b[0m",
      "\u001b[1;31mNameError\u001b[0m                                 Traceback (most recent call last)",
      "Cell \u001b[1;32mIn[66], line 46\u001b[0m\n\u001b[0;32m     44\u001b[0m \u001b[38;5;28mprint\u001b[39m(\u001b[38;5;124m\"\u001b[39m\u001b[38;5;124mHemos pillado la url\u001b[39m\u001b[38;5;124m\"\u001b[39m)\n\u001b[0;32m     45\u001b[0m sleep(\u001b[38;5;241m3\u001b[39m)\n\u001b[1;32m---> 46\u001b[0m tabla \u001b[38;5;241m=\u001b[39m driver\u001b[38;5;241m.\u001b[39mfind_element(By\u001b[38;5;241m.\u001b[39mXPATH,\u001b[38;5;124m'\u001b[39m\u001b[38;5;124m/html/body/app-root/app-dashboard/one-column-layout/wu-header/sidenav/mat-sidenav-container/mat-sidenav-content/div[2]/section/section[1]/div[1]/div/section/div/div/div/lib-history/div[2]/lib-history-table/div\u001b[39m\u001b[38;5;124m'\u001b[39m)\u001b[38;5;241m.\u001b[39mtext\n\u001b[0;32m     47\u001b[0m \u001b[38;5;28mprint\u001b[39m(\u001b[38;5;124m\"\u001b[39m\u001b[38;5;124mHemos llegado a la tabla\u001b[39m\u001b[38;5;124m\"\u001b[39m)\n",
      "\u001b[1;31mNameError\u001b[0m: name 'By' is not defined"
     ]
    }
   ],
   "source": [
    "#Scrapeo de web, cambiamos coordenadas cada vez con el diccionario\n",
    "#Abrimos ventana\n",
    "driver = webdriver.Chrome()\n",
    "#url de trabajo\n",
    "url_wunder = \"https://www.wunderground.com/history\"\n",
    "#Abrimos en el navegador\n",
    "driver.get(url_wunder)\n",
    "driver.maximize_window()\n",
    "print(\"Hemos llegado a la web\")\n",
    "sleep(5)\n",
    "print(\"Hemos esperao\")\n",
    "#Aceptamos las cookies\n",
    "\n",
    "#10 segundos haciendo click a las cookies\n",
    "iframe = WebDriverWait(driver, 10).until(EC.presence_of_element_located((\"xpath\",'//*[@id=\"sp_message_iframe_1165301\"]')))\n",
    "print(\"El cuadro de ccokies ha aparecido\")\n",
    "driver.switch_to.frame(iframe)\n",
    "print(\"Hemos cambiado de frame\")\n",
    "sleep(2)\n",
    "\n",
    "driver.find_element(\"css selector\",'#notice > div.message-component.message-row.cta-buttons-container > div.message-component.message-column.cta-button-column.reject-column > button').click()\n",
    "print(\"Rechazo cookies\")\n",
    "driver.switch_to.default_content()\n",
    "sleep(1)\n",
    "\n",
    "print(\"cambio\")\n",
    "sleep(2)\n",
    "\n",
    "driver.find_element(\"xpath\",'/html/body/app-root/app-history-search/one-column-layout/wu-header/sidenav/mat-sidenav-container/mat-sidenav-content/div[1]/div[2]/lib-search/div/div/div/input').click()\n",
    "print(\"click2\")\n",
    "\n",
    "driver.find_element(\"xpath\",'/html/body/app-root/app-history-search/one-column-layout/wu-header/sidenav/mat-sidenav-container/mat-sidenav-content/div[1]/div[2]/lib-search/div/div/div/input').send_keys(\"40.23,-3.99\", Keys.TAB)\n",
    "print(\"coordenadas\")\n",
    "sleep(2)\n",
    "\n",
    "driver.find_element(\"xpath\",'/html/body/app-root/app-history-search/one-column-layout/wu-header/sidenav/mat-sidenav-container/mat-sidenav-content/div[1]/div[2]/lib-search/div/div/div/input').click()\n",
    "print(\"Aparece pop-up\")\n",
    "sleep(2)\n",
    "\n",
    "driver.find_element(\"xpath\", '/html/body/app-root/app-history-search/one-column-layout/wu-header/sidenav/mat-sidenav-container/mat-sidenav-content/div[1]/div[2]/lib-search/div/div/search-autocomplete/ul/li[6]/a/span[1]/span').click()\n",
    "print(\"Estamos en la estación meteorológica\")\n",
    "\n",
    "url_coordenadas = driver.find_element(\"xpath\", '/html/head/link[51]').get_attribute(\"href\")\n",
    "print(\"Hemos pillado la url\")\n",
    "sleep(3)\n",
    "tabla = driver.find_element(By.XPATH,'/html/body/app-root/app-dashboard/one-column-layout/wu-header/sidenav/mat-sidenav-container/mat-sidenav-content/div[2]/section/section[1]/div[1]/div/section/div/div/div/lib-history/div[2]/lib-history-table/div').text\n",
    "print(\"Hemos llegado a la tabla\")"
   ]
  },
  {
   "cell_type": "code",
   "execution_count": 57,
   "metadata": {},
   "outputs": [
    {
     "data": {
      "text/plain": [
       "'IELLAM5'"
      ]
     },
     "execution_count": 57,
     "metadata": {},
     "output_type": "execute_result"
    }
   ],
   "source": [
    "codigo_estacion = url_coordenadas.split(\"/\")[-1]\n",
    "for mes in range (1-10):\n",
    "    url_a_rellenar = f\"https://www.wunderground.com/dashboard/pws/{codigo_estacion}/table/2024-0{mes}/2024-0{mes}/monthly\"\n",
    "\n",
    "#Automatizar todo con el 4loop"
   ]
  },
  {
   "cell_type": "code",
   "execution_count": 67,
   "metadata": {},
   "outputs": [
    {
     "data": {
      "text/plain": [
       "'https://www.wunderground.com/dashboard/pws/IELLAM5'"
      ]
     },
     "execution_count": 67,
     "metadata": {},
     "output_type": "execute_result"
    }
   ],
   "source": [
    "url_coordenadas"
   ]
  },
  {
   "cell_type": "code",
   "execution_count": 115,
   "metadata": {},
   "outputs": [
    {
     "name": "stdout",
     "output_type": "stream",
     "text": [
      "200\n",
      "2\n"
     ]
    },
    {
     "data": {
      "text/html": [
       "<div>\n",
       "<style scoped>\n",
       "    .dataframe tbody tr th:only-of-type {\n",
       "        vertical-align: middle;\n",
       "    }\n",
       "\n",
       "    .dataframe tbody tr th {\n",
       "        vertical-align: top;\n",
       "    }\n",
       "\n",
       "    .dataframe thead th {\n",
       "        text-align: right;\n",
       "    }\n",
       "</style>\n",
       "<table border=\"1\" class=\"dataframe\">\n",
       "  <thead>\n",
       "    <tr style=\"text-align: right;\">\n",
       "      <th></th>\n",
       "      <th>0</th>\n",
       "      <th>1</th>\n",
       "      <th>2</th>\n",
       "      <th>3</th>\n",
       "      <th>4</th>\n",
       "      <th>5</th>\n",
       "      <th>6</th>\n",
       "      <th>7</th>\n",
       "      <th>8</th>\n",
       "    </tr>\n",
       "  </thead>\n",
       "  <tbody>\n",
       "    <tr>\n",
       "      <th>0</th>\n",
       "      <td>Temperature</td>\n",
       "      <td>Dew Point</td>\n",
       "      <td>Humidity</td>\n",
       "      <td>Precipitation</td>\n",
       "      <td></td>\n",
       "      <td>Wind Speed</td>\n",
       "      <td>Wind Gust</td>\n",
       "      <td>Wind Direction</td>\n",
       "      <td>Pressure</td>\n",
       "    </tr>\n",
       "    <tr>\n",
       "      <th>1</th>\n",
       "      <td>72.7 °F</td>\n",
       "      <td>62.8 °F</td>\n",
       "      <td>99 °%</td>\n",
       "      <td>1.47 °in</td>\n",
       "      <td>High</td>\n",
       "      <td>11.2 °mph</td>\n",
       "      <td>17.2 °mph</td>\n",
       "      <td>--</td>\n",
       "      <td>29.93 °in</td>\n",
       "    </tr>\n",
       "    <tr>\n",
       "      <th>2</th>\n",
       "      <td>56.8 °F</td>\n",
       "      <td>54.9 °F</td>\n",
       "      <td>61 °%</td>\n",
       "      <td>--</td>\n",
       "      <td>Low</td>\n",
       "      <td>0.0 °mph</td>\n",
       "      <td>--</td>\n",
       "      <td>--</td>\n",
       "      <td>29.72 °in</td>\n",
       "    </tr>\n",
       "    <tr>\n",
       "      <th>3</th>\n",
       "      <td>61.9 °F</td>\n",
       "      <td>58.6 °F</td>\n",
       "      <td>90 °%</td>\n",
       "      <td>--</td>\n",
       "      <td>Average</td>\n",
       "      <td>2.1 °mph</td>\n",
       "      <td>3.2 °mph</td>\n",
       "      <td>WNW</td>\n",
       "      <td>--</td>\n",
       "    </tr>\n",
       "  </tbody>\n",
       "</table>\n",
       "</div>"
      ],
      "text/plain": [
       "             0          1         2              3        4           5  \\\n",
       "0  Temperature  Dew Point  Humidity  Precipitation           Wind Speed   \n",
       "1      72.7 °F    62.8 °F     99 °%       1.47 °in     High   11.2 °mph   \n",
       "2      56.8 °F    54.9 °F     61 °%             --      Low    0.0 °mph   \n",
       "3      61.9 °F    58.6 °F     90 °%             --  Average    2.1 °mph   \n",
       "\n",
       "           6               7          8  \n",
       "0  Wind Gust  Wind Direction   Pressure  \n",
       "1  17.2 °mph              --  29.93 °in  \n",
       "2         --              --  29.72 °in  \n",
       "3   3.2 °mph             WNW         --  "
      ]
     },
     "execution_count": 115,
     "metadata": {},
     "output_type": "execute_result"
    }
   ],
   "source": [
    "url_wunder = url_coordenadas\n",
    "response_wunder = requests.get(url_wunder)\n",
    "print(response_wunder.status_code)\n",
    "sopa_wunder = BeautifulSoup(response_wunder.content, \"html.parser\")\n",
    "\n",
    "\n",
    "tablas_wunder = sopa_wunder.findAll(\"table\")\n",
    "print (len(tablas_wunder))\n",
    "\n",
    "rows = []\n",
    "headers = [header.text for header in sopa_wunder.find_all('th')]\n",
    "for row in sopa_wunder.find_all('tr')[1:]:\n",
    "    rows.append([cell.text.strip() for cell in row.find_all(['th', 'td'])])\n",
    "\n",
    "\n",
    "headers = [\"Temperature\",\"Dew Point\",\"Humidity\",\"Precipitation\",\"Wind Speed\",\"Wind Gust\",\"Wind Direction\",\"Pressure\"]\n",
    "\n",
    "df = pd.DataFrame(rows)\n",
    "df = df.T\n",
    "# df.drop(columns =[0,1,2,3,7,8,9,10,11], inplace = True)\n",
    "# df.columns = df.iloc[0,:]\n",
    "df\n",
    "# Temperature\t72.7 °F\t57.0 °F\t62.0 °F\n",
    "# 1\tDew Point\t62.8 °F\t55.4 °F\t58.7 °F\n",
    "# 2\tHumidity\t99 °%\t61 °%\t90 °%\n",
    "# 3\tPrecipitation\t1.47 °in\t--\t--\n",
    "# 4\t\tHigh\tLow\tAverage\n",
    "# 5\tWind Speed\t11.2 °mph\t0.0 °mph\t2.2 °mph\n",
    "# 6\tWind Gust\t17.2 °mph\t--\t3.2 °mph\n",
    "# 7\tWind Direction\t--\t--\tWNW\n",
    "# 8\tPressure"
   ]
  }
 ],
 "metadata": {
  "kernelspec": {
   "display_name": "base",
   "language": "python",
   "name": "python3"
  },
  "language_info": {
   "codemirror_mode": {
    "name": "ipython",
    "version": 3
   },
   "file_extension": ".py",
   "mimetype": "text/x-python",
   "name": "python",
   "nbconvert_exporter": "python",
   "pygments_lexer": "ipython3",
   "version": "3.11.7"
  }
 },
 "nbformat": 4,
 "nbformat_minor": 2
}
