{
 "cells": [
  {
   "cell_type": "code",
   "execution_count": null,
   "metadata": {},
   "outputs": [],
   "source": [
    "# Importamos las librerías que necesitamos\n",
    "\n",
    "# Librerías de extracción de datos\n",
    "# -----------------------------------------------------------------------\n",
    "\n",
    "!pip install selenium==4.21.0\n",
    "!pip install webdriver-manager==4.0.2\n",
    "\n",
    "# Importaciones:\n",
    "# Beautifulsoup\n",
    "from bs4 import BeautifulSoup\n",
    "\n",
    "# Requests\n",
    "import requests\n",
    "\n",
    "import pandas as pd\n",
    "import numpy as np\n",
    "\n",
    "from time import sleep\n",
    "\n",
    "# Importar librerías para automatización de navegadores web con Selenium\n",
    "# -----------------------------------------------------------------------\n",
    "from selenium import webdriver  # Selenium es una herramienta para automatizar la interacción con navegadores web.\n",
    "from webdriver_manager.chrome import ChromeDriverManager  # ChromeDriverManager gestiona la instalación del controlador de Chrome.\n",
    "from selenium.webdriver.common.keys import Keys  # Keys es útil para simular eventos de teclado en Selenium.\n",
    "from selenium.webdriver.support.ui import Select  # Select se utiliza para interactuar con elementos <select> en páginas web.\n",
    "from selenium.webdriver.support.ui import WebDriverWait\n",
    "from selenium.webdriver.support import expected_conditions as EC\n",
    "from selenium.common.exceptions import NoSuchElementException # Excepciones comunes de selenium que nos podemos encontrar \n"
   ]
  },
  {
   "cell_type": "code",
   "execution_count": null,
   "metadata": {},
   "outputs": [],
   "source": [
    "#Abrimos ventana\n",
    "driver = webdriver.Chrome()\n",
    "#url de trabajo\n",
    "url_wunder = \"https://www.wunderground.com/history\"\n",
    "#Abrimos en el navegador\n",
    "driver.get(url_wunder)\n",
    "# driver.maximize_window()\n",
    "print(\"Hemos llegado a la web\")\n",
    "sleep(5)\n",
    "print(\"Hemos esperao\")\n",
    "#Aceptamos las cookies\n",
    "\n",
    "#10 segundos haciendo click a las cookies\n",
    "iframe = WebDriverWait(driver, 10).until(EC.presence_of_element_located((\"xpath\",'//*[@id=\"sp_message_iframe_1165301\"]')))\n",
    "print(\"El cuadro de ccokies ha aparecido\")\n",
    "driver.switch_to.frame(iframe)\n",
    "print(\"Hemos cambiado de frame\")\n",
    "sleep(2)\n",
    "driver.find_element(\"css selector\",'#notice > div.message-component.message-row.cta-buttons-container > div.message-component.message-column.cta-button-column.reject-column > button').click()\n",
    "print(\"Rechazo cookies\")\n",
    "driver.switch_to.default_content()\n",
    "sleep(1)\n",
    "print(\"cambio\")\n",
    "sleep(2)\n",
    "driver.find_element(\"css selector\", \"#historySearch\").send_keys(\"Madrid,Madrid,Spain\", Keys.TAB)\n",
    "sleep(4)\n",
    "print(\"he escrito\")\n",
    "try:\n",
    "      driver.find_element(\"xpath\", '//*[@id=\"dateSubmit\"]').click()\n",
    "      sleep(1)\n",
    "      driver.find_element(\"xpath\", '//*[@id=\"dateSubmit\"]').click()\n",
    "except:\n",
    "     print(\"no encuentro el boton\")\n"
   ]
  },
  {
   "cell_type": "code",
   "execution_count": null,
   "metadata": {},
   "outputs": [],
   "source": [
    "#Diccionario de coordenadas\n",
    "df = pd.read_csv(\"latitudes.csv\", index_col = 0)\n",
    "df = df.round(2)\n",
    "df.index = [\"Latitude\",\"Longitude\"]\n",
    "dic = df.to_dict(orient = \"dict\")\n",
    "dic.values()"
   ]
  },
  {
   "cell_type": "code",
   "execution_count": null,
   "metadata": {},
   "outputs": [],
   "source": [
    "#wuForm > search-autocomplete > ul > li.result-type-pws.ui-autocomplete-group.ng-star-inserted\n",
    "##wuForm > search-autocomplete > ul > li:nth-child(6) > a > span.needsclick.needsfocus.city-name.ng-star-inserted > span"
   ]
  },
  {
   "cell_type": "code",
   "execution_count": null,
   "metadata": {},
   "outputs": [],
   "source": [
    "# #Sacar el código de la URL\n",
    "# var1 = driver.find_element(\"css selector\", '#wuForm > search-autocomplete > ul > li:nth-child(6) > a').text\n",
    "#wuForm > search-autocomplete > ul > li:nth-child(6) > a"
   ]
  },
  {
   "cell_type": "code",
   "execution_count": null,
   "metadata": {},
   "outputs": [],
   "source": [
    "print(dic)\n",
    "print(list(dic.values())[1][\"Latitude\"])\n",
    "print(list(dic.values())[1][\"Longitude\"])"
   ]
  },
  {
   "cell_type": "code",
   "execution_count": 62,
   "metadata": {},
   "outputs": [
    {
     "name": "stdout",
     "output_type": "stream",
     "text": [
      "Hemos llegado a la web\n",
      "Hemos esperao\n",
      "El cuadro de ccokies ha aparecido\n",
      "Hemos cambiado de frame\n",
      "Rechazo cookies\n",
      "cambio\n",
      "click2\n",
      "coordenadas\n",
      "Aparece pop-up\n",
      "Estamos en la estación meteorológica\n",
      "Hemos pillado la url\n"
     ]
    },
    {
     "ename": "NoSuchElementException",
     "evalue": "Message: no such element: Unable to locate element: {\"method\":\"xpath\",\"selector\":\"/html/body/app-root/app-dashboard/one-column-layout/wu-header/sidenav/mat-sidenav-container/mat-sidenav-content/div[2]/section/section[1]/div[1]/div/section/div/div/div/lib-history/div[2]/lib-history-table/div\"}\n  (Session info: chrome=129.0.6668.101); For documentation on this error, please visit: https://www.selenium.dev/documentation/webdriver/troubleshooting/errors#no-such-element-exception\nStacktrace:\n\tGetHandleVerifier [0x00007FF61918B095+29557]\n\t(No symbol) [0x00007FF6190FFA50]\n\t(No symbol) [0x00007FF618FBB56A]\n\t(No symbol) [0x00007FF61900F695]\n\t(No symbol) [0x00007FF61900F8EC]\n\t(No symbol) [0x00007FF61905B777]\n\t(No symbol) [0x00007FF6190371CF]\n\t(No symbol) [0x00007FF61905851C]\n\t(No symbol) [0x00007FF619036F33]\n\t(No symbol) [0x00007FF61900116F]\n\t(No symbol) [0x00007FF6190022D1]\n\tGetHandleVerifier [0x00007FF6194BC96D+3378253]\n\tGetHandleVerifier [0x00007FF619508497+3688311]\n\tGetHandleVerifier [0x00007FF6194FD1CB+3642539]\n\tGetHandleVerifier [0x00007FF61924A6B6+813462]\n\t(No symbol) [0x00007FF61910AB5F]\n\t(No symbol) [0x00007FF619106B74]\n\t(No symbol) [0x00007FF619106D10]\n\t(No symbol) [0x00007FF6190F5C1F]\n\tBaseThreadInitThunk [0x00007FFC2510DBE7+23]\n\tRtlUserThreadStart [0x00007FFC26325A4C+44]\n",
     "output_type": "error",
     "traceback": [
      "\u001b[1;31m---------------------------------------------------------------------------\u001b[0m",
      "\u001b[1;31mNoSuchElementException\u001b[0m                    Traceback (most recent call last)",
      "Cell \u001b[1;32mIn[62], line 46\u001b[0m\n\u001b[0;32m     43\u001b[0m url_coordenadas \u001b[38;5;241m=\u001b[39m driver\u001b[38;5;241m.\u001b[39mfind_element(\u001b[38;5;124m\"\u001b[39m\u001b[38;5;124mxpath\u001b[39m\u001b[38;5;124m\"\u001b[39m, \u001b[38;5;124m'\u001b[39m\u001b[38;5;124m/html/head/link[51]\u001b[39m\u001b[38;5;124m'\u001b[39m)\u001b[38;5;241m.\u001b[39mget_attribute(\u001b[38;5;124m\"\u001b[39m\u001b[38;5;124mhref\u001b[39m\u001b[38;5;124m\"\u001b[39m)\n\u001b[0;32m     44\u001b[0m \u001b[38;5;28mprint\u001b[39m(\u001b[38;5;124m\"\u001b[39m\u001b[38;5;124mHemos pillado la url\u001b[39m\u001b[38;5;124m\"\u001b[39m)\n\u001b[1;32m---> 46\u001b[0m tabla \u001b[38;5;241m=\u001b[39m driver\u001b[38;5;241m.\u001b[39mfind_element(\u001b[38;5;124m\"\u001b[39m\u001b[38;5;124mxpath\u001b[39m\u001b[38;5;124m\"\u001b[39m,\u001b[38;5;124m'\u001b[39m\u001b[38;5;124m/html/body/app-root/app-dashboard/one-column-layout/wu-header/sidenav/mat-sidenav-container/mat-sidenav-content/div[2]/section/section[1]/div[1]/div/section/div/div/div/lib-history/div[2]/lib-history-table/div\u001b[39m\u001b[38;5;124m'\u001b[39m)\n\u001b[0;32m     47\u001b[0m \u001b[38;5;28mprint\u001b[39m(\u001b[38;5;124m\"\u001b[39m\u001b[38;5;124mHemos llegado a la tabla\u001b[39m\u001b[38;5;124m\"\u001b[39m)\n",
      "File \u001b[1;32mc:\\Users\\Víctor\\anaconda3\\Lib\\site-packages\\selenium\\webdriver\\remote\\webdriver.py:741\u001b[0m, in \u001b[0;36mWebDriver.find_element\u001b[1;34m(self, by, value)\u001b[0m\n\u001b[0;32m    738\u001b[0m     by \u001b[38;5;241m=\u001b[39m By\u001b[38;5;241m.\u001b[39mCSS_SELECTOR\n\u001b[0;32m    739\u001b[0m     value \u001b[38;5;241m=\u001b[39m \u001b[38;5;124mf\u001b[39m\u001b[38;5;124m'\u001b[39m\u001b[38;5;124m[name=\u001b[39m\u001b[38;5;124m\"\u001b[39m\u001b[38;5;132;01m{\u001b[39;00mvalue\u001b[38;5;132;01m}\u001b[39;00m\u001b[38;5;124m\"\u001b[39m\u001b[38;5;124m]\u001b[39m\u001b[38;5;124m'\u001b[39m\n\u001b[1;32m--> 741\u001b[0m \u001b[38;5;28;01mreturn\u001b[39;00m \u001b[38;5;28mself\u001b[39m\u001b[38;5;241m.\u001b[39mexecute(Command\u001b[38;5;241m.\u001b[39mFIND_ELEMENT, {\u001b[38;5;124m\"\u001b[39m\u001b[38;5;124musing\u001b[39m\u001b[38;5;124m\"\u001b[39m: by, \u001b[38;5;124m\"\u001b[39m\u001b[38;5;124mvalue\u001b[39m\u001b[38;5;124m\"\u001b[39m: value})[\u001b[38;5;124m\"\u001b[39m\u001b[38;5;124mvalue\u001b[39m\u001b[38;5;124m\"\u001b[39m]\n",
      "File \u001b[1;32mc:\\Users\\Víctor\\anaconda3\\Lib\\site-packages\\selenium\\webdriver\\remote\\webdriver.py:347\u001b[0m, in \u001b[0;36mWebDriver.execute\u001b[1;34m(self, driver_command, params)\u001b[0m\n\u001b[0;32m    345\u001b[0m response \u001b[38;5;241m=\u001b[39m \u001b[38;5;28mself\u001b[39m\u001b[38;5;241m.\u001b[39mcommand_executor\u001b[38;5;241m.\u001b[39mexecute(driver_command, params)\n\u001b[0;32m    346\u001b[0m \u001b[38;5;28;01mif\u001b[39;00m response:\n\u001b[1;32m--> 347\u001b[0m     \u001b[38;5;28mself\u001b[39m\u001b[38;5;241m.\u001b[39merror_handler\u001b[38;5;241m.\u001b[39mcheck_response(response)\n\u001b[0;32m    348\u001b[0m     response[\u001b[38;5;124m\"\u001b[39m\u001b[38;5;124mvalue\u001b[39m\u001b[38;5;124m\"\u001b[39m] \u001b[38;5;241m=\u001b[39m \u001b[38;5;28mself\u001b[39m\u001b[38;5;241m.\u001b[39m_unwrap_value(response\u001b[38;5;241m.\u001b[39mget(\u001b[38;5;124m\"\u001b[39m\u001b[38;5;124mvalue\u001b[39m\u001b[38;5;124m\"\u001b[39m, \u001b[38;5;28;01mNone\u001b[39;00m))\n\u001b[0;32m    349\u001b[0m     \u001b[38;5;28;01mreturn\u001b[39;00m response\n",
      "File \u001b[1;32mc:\\Users\\Víctor\\anaconda3\\Lib\\site-packages\\selenium\\webdriver\\remote\\errorhandler.py:229\u001b[0m, in \u001b[0;36mErrorHandler.check_response\u001b[1;34m(self, response)\u001b[0m\n\u001b[0;32m    227\u001b[0m         alert_text \u001b[38;5;241m=\u001b[39m value[\u001b[38;5;124m\"\u001b[39m\u001b[38;5;124malert\u001b[39m\u001b[38;5;124m\"\u001b[39m]\u001b[38;5;241m.\u001b[39mget(\u001b[38;5;124m\"\u001b[39m\u001b[38;5;124mtext\u001b[39m\u001b[38;5;124m\"\u001b[39m)\n\u001b[0;32m    228\u001b[0m     \u001b[38;5;28;01mraise\u001b[39;00m exception_class(message, screen, stacktrace, alert_text)  \u001b[38;5;66;03m# type: ignore[call-arg]  # mypy is not smart enough here\u001b[39;00m\n\u001b[1;32m--> 229\u001b[0m \u001b[38;5;28;01mraise\u001b[39;00m exception_class(message, screen, stacktrace)\n",
      "\u001b[1;31mNoSuchElementException\u001b[0m: Message: no such element: Unable to locate element: {\"method\":\"xpath\",\"selector\":\"/html/body/app-root/app-dashboard/one-column-layout/wu-header/sidenav/mat-sidenav-container/mat-sidenav-content/div[2]/section/section[1]/div[1]/div/section/div/div/div/lib-history/div[2]/lib-history-table/div\"}\n  (Session info: chrome=129.0.6668.101); For documentation on this error, please visit: https://www.selenium.dev/documentation/webdriver/troubleshooting/errors#no-such-element-exception\nStacktrace:\n\tGetHandleVerifier [0x00007FF61918B095+29557]\n\t(No symbol) [0x00007FF6190FFA50]\n\t(No symbol) [0x00007FF618FBB56A]\n\t(No symbol) [0x00007FF61900F695]\n\t(No symbol) [0x00007FF61900F8EC]\n\t(No symbol) [0x00007FF61905B777]\n\t(No symbol) [0x00007FF6190371CF]\n\t(No symbol) [0x00007FF61905851C]\n\t(No symbol) [0x00007FF619036F33]\n\t(No symbol) [0x00007FF61900116F]\n\t(No symbol) [0x00007FF6190022D1]\n\tGetHandleVerifier [0x00007FF6194BC96D+3378253]\n\tGetHandleVerifier [0x00007FF619508497+3688311]\n\tGetHandleVerifier [0x00007FF6194FD1CB+3642539]\n\tGetHandleVerifier [0x00007FF61924A6B6+813462]\n\t(No symbol) [0x00007FF61910AB5F]\n\t(No symbol) [0x00007FF619106B74]\n\t(No symbol) [0x00007FF619106D10]\n\t(No symbol) [0x00007FF6190F5C1F]\n\tBaseThreadInitThunk [0x00007FFC2510DBE7+23]\n\tRtlUserThreadStart [0x00007FFC26325A4C+44]\n"
     ]
    }
   ],
   "source": [
    "#Scrapeo de web, cambiamos coordenadas cada vez con el diccionario\n",
    "#Abrimos ventana\n",
    "driver = webdriver.Chrome()\n",
    "#url de trabajo\n",
    "url_wunder = \"https://www.wunderground.com/history\"\n",
    "#Abrimos en el navegador\n",
    "driver.get(url_wunder)\n",
    "driver.maximize_window()\n",
    "print(\"Hemos llegado a la web\")\n",
    "sleep(5)\n",
    "print(\"Hemos esperao\")\n",
    "#Aceptamos las cookies\n",
    "\n",
    "#10 segundos haciendo click a las cookies\n",
    "iframe = WebDriverWait(driver, 10).until(EC.presence_of_element_located((\"xpath\",'//*[@id=\"sp_message_iframe_1165301\"]')))\n",
    "print(\"El cuadro de ccokies ha aparecido\")\n",
    "driver.switch_to.frame(iframe)\n",
    "print(\"Hemos cambiado de frame\")\n",
    "sleep(2)\n",
    "\n",
    "driver.find_element(\"css selector\",'#notice > div.message-component.message-row.cta-buttons-container > div.message-component.message-column.cta-button-column.reject-column > button').click()\n",
    "print(\"Rechazo cookies\")\n",
    "driver.switch_to.default_content()\n",
    "sleep(1)\n",
    "\n",
    "print(\"cambio\")\n",
    "sleep(2)\n",
    "\n",
    "driver.find_element(\"xpath\",'/html/body/app-root/app-history-search/one-column-layout/wu-header/sidenav/mat-sidenav-container/mat-sidenav-content/div[1]/div[2]/lib-search/div/div/div/input').click()\n",
    "print(\"click2\")\n",
    "\n",
    "driver.find_element(\"xpath\",'/html/body/app-root/app-history-search/one-column-layout/wu-header/sidenav/mat-sidenav-container/mat-sidenav-content/div[1]/div[2]/lib-search/div/div/div/input').send_keys(\"40.23,-3.99\", Keys.TAB)\n",
    "print(\"coordenadas\")\n",
    "sleep(2)\n",
    "\n",
    "driver.find_element(\"xpath\",'/html/body/app-root/app-history-search/one-column-layout/wu-header/sidenav/mat-sidenav-container/mat-sidenav-content/div[1]/div[2]/lib-search/div/div/div/input').click()\n",
    "print(\"Aparece pop-up\")\n",
    "sleep(2)\n",
    "\n",
    "driver.find_element(\"xpath\", '/html/body/app-root/app-history-search/one-column-layout/wu-header/sidenav/mat-sidenav-container/mat-sidenav-content/div[1]/div[2]/lib-search/div/div/search-autocomplete/ul/li[6]/a/span[1]/span').click()\n",
    "print(\"Estamos en la estación meteorológica\")\n",
    "\n",
    "url_coordenadas = driver.find_element(\"xpath\", '/html/head/link[51]').get_attribute(\"href\")\n",
    "print(\"Hemos pillado la url\")\n",
    "\n",
    "tabla = driver.find_element(\"xpath\",'/html/body/app-root/app-dashboard/one-column-layout/wu-header/sidenav/mat-sidenav-container/mat-sidenav-content/div[2]/section/section[1]/div[1]/div/section/div/div/div/lib-history/div[2]/lib-history-table/div')\n",
    "print(\"Hemos llegado a la tabla\")"
   ]
  },
  {
   "cell_type": "code",
   "execution_count": 57,
   "metadata": {},
   "outputs": [
    {
     "data": {
      "text/plain": [
       "'IELLAM5'"
      ]
     },
     "execution_count": 57,
     "metadata": {},
     "output_type": "execute_result"
    }
   ],
   "source": [
    "codigo_estacion = url_coordenadas.split(\"/\")[-1]\n",
    "for mes in range (1-10):\n",
    "    url_a_rellenar = f\"https://www.wunderground.com/dashboard/pws/{codigo_estacion}/table/2024-0{mes}/2024-0{mes}/monthly\"\n",
    "\n",
    "#Automatizar todo con el 4loop"
   ]
  },
  {
   "cell_type": "code",
   "execution_count": null,
   "metadata": {},
   "outputs": [],
   "source": [
    "tabla"
   ]
  },
  {
   "cell_type": "code",
   "execution_count": null,
   "metadata": {},
   "outputs": [],
   "source": [
    "url_wunder = \"https://www.wunderground.com\"\n",
    "response_wunder = requests.get(url_wunder)\n",
    "print(response_wunder.status_code)\n",
    "sopa_wunder = BeautifulSoup(response_wunder.content, \"html.parser\")\n",
    "\n",
    "\n",
    "tablas_wunder = sopa_wunder.findAll(\"table\")\n",
    "print (len(tablas_wunder))\n",
    "# tabla = tablas_wunder\n",
    "# enunciados = [enunciado.getText() for enunciado in tabla.findAll(\"th\")]\n",
    "# enunciados"
   ]
  }
 ],
 "metadata": {
  "kernelspec": {
   "display_name": "base",
   "language": "python",
   "name": "python3"
  },
  "language_info": {
   "codemirror_mode": {
    "name": "ipython",
    "version": 3
   },
   "file_extension": ".py",
   "mimetype": "text/x-python",
   "name": "python",
   "nbconvert_exporter": "python",
   "pygments_lexer": "ipython3",
   "version": "3.11.7"
  }
 },
 "nbformat": 4,
 "nbformat_minor": 2
}
